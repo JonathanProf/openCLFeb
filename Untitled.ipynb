{
 "cells": [
  {
   "cell_type": "code",
   "execution_count": 51,
   "id": "1b6c1930",
   "metadata": {},
   "outputs": [
    {
     "name": "stdout",
     "output_type": "stream",
     "text": [
      "V2(500) = 0.23809523809523808\n",
      "V2(180000.0) = 4.7368421052631575\n"
     ]
    }
   ],
   "source": [
    "R2 = 10000\n",
    "\n",
    "for R1 in [500, 180e3]:\n",
    "    V2 = R1/(R1+R2)*5\n",
    "    print(\"V2({0}) = {1}\".format(R1, V2))"
   ]
  },
  {
   "cell_type": "code",
   "execution_count": null,
   "id": "62641f45",
   "metadata": {},
   "outputs": [],
   "source": []
  }
 ],
 "metadata": {
  "kernelspec": {
   "display_name": "Python 3 (ipykernel)",
   "language": "python",
   "name": "python3"
  },
  "language_info": {
   "codemirror_mode": {
    "name": "ipython",
    "version": 3
   },
   "file_extension": ".py",
   "mimetype": "text/x-python",
   "name": "python",
   "nbconvert_exporter": "python",
   "pygments_lexer": "ipython3",
   "version": "3.8.10"
  }
 },
 "nbformat": 4,
 "nbformat_minor": 5
}
